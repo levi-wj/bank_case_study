{
  "cells": [
    {
      "cell_type": "markdown",
      "metadata": {
        "id": "dYY_wyUQuxmS"
      },
      "source": [
        "Prep work:\n",
        "\n",
        "*   Download team csv predictions file\n",
        "*   Rename files to team8-module2-predictions.csv where team8 is the name of your team\n",
        "*   Make sure file is one column and remove any extra columns\n",
        "*   Make sure the heading is set to \"predictions\" (without quotes)\n",
        "*   Upload csv predictions to session storage area.\n",
        "    *     Click the folder icon, then click the upload icon (paper with an upward arrow)\n",
        "*   Run the notebook (Runtime -> Run all)\n",
        "\n",
        "\n",
        "\n",
        "\n"
      ]
    },
    {
      "cell_type": "code",
      "execution_count": 13,
      "metadata": {
        "id": "ZeZMLW3ytz01"
      },
      "outputs": [],
      "source": [
        "# MODULE 02 - BANK HOLDOUT GRADING\n",
        "\n",
        "from pathlib import Path\n",
        "import pandas as pd\n",
        "import seaborn as sns\n",
        "import matplotlib.pyplot as plt\n",
        "import numpy as np\n",
        "from sklearn.metrics import confusion_matrix\n",
        "\n",
        "blue_score = 650\n",
        "orange_score = 300\n",
        "\n",
        "# READ IN THE CSV FILES\n",
        "team_dir = Path(\"./\")\n",
        "teams = team_dir.glob(\"*-predictions.csv\")\n",
        "team_list = []\n",
        "for team in teams:\n",
        "  # print(latent_file)\n",
        "  team_list.append((str(team).split(\"-\",1)[0],team))\n",
        "\n",
        "# print(team_list)"
      ]
    },
    {
      "cell_type": "code",
      "execution_count": 14,
      "metadata": {
        "id": "HhWSijWbvqMW"
      },
      "outputs": [],
      "source": [
        "# READ IN THE MINI HOLDOUT ANSWERS\n",
        "targets_file = \"https://raw.githubusercontent.com/byui-cse/cse450-course/master/data/bank_holdout_test_mini_answers.csv\"\n",
        "targets = pd.read_csv(targets_file)\n",
        "# targets"
      ]
    },
    {
      "cell_type": "code",
      "execution_count": 15,
      "metadata": {
        "id": "gSHn-_3f0eqx"
      },
      "outputs": [
        {
          "name": "stdout",
          "output_type": "stream",
          "text": [
            "Group team2 added successfully\n"
          ]
        }
      ],
      "source": [
        "# ARE THE STUDENT DATASETS THE CORRECT LENGTH\n",
        "student_datasets = {}\n",
        "for (group, file) in team_list:\n",
        "  ds = pd.read_csv(file)\n",
        "\n",
        "  if len(ds) != len(targets):\n",
        "    print(f\"Error group {group} ds had {len(ds)} rows instead of the expected {len(targets)}. It will be excluded.\")\n",
        "  else:\n",
        "    student_datasets[group] = ds\n",
        "    print(f\"Group {group} added successfully\")"
      ]
    },
    {
      "cell_type": "code",
      "execution_count": 16,
      "metadata": {
        "id": "9sBeLEAl1OXi"
      },
      "outputs": [],
      "source": [
        "# student_datasets"
      ]
    },
    {
      "cell_type": "code",
      "execution_count": 17,
      "metadata": {
        "id": "jT2EIFkK-z9c"
      },
      "outputs": [],
      "source": [
        "def recommended_grade(amount):\n",
        "  '''\n",
        "  A simple min max scaler to identify a recommended score for the holdout set\n",
        "  '''\n",
        "  min_allowed = orange_score\n",
        "  max_allowed = blue_score\n",
        "  if amount>max_allowed:\n",
        "    return 100\n",
        "  elif amount<min_allowed:\n",
        "    return 0\n",
        "  else:\n",
        "    return (amount - min_allowed) / (max_allowed - min_allowed)*100\n"
      ]
    },
    {
      "cell_type": "code",
      "execution_count": 18,
      "metadata": {
        "id": "I6TFZng56xoL"
      },
      "outputs": [],
      "source": [
        "def value_of_calls(incorrect_calls, correct_calls):\n",
        "  '''\n",
        "  This function is based on assumptions about bank employee wages, time requirements,\n",
        "  average savings amounts, and net interest margin. Wages, average savings, and net interest margin,\n",
        "  were pulled from the time range of the dataset. Assumptions were made about time on call and the\n",
        "  percentage of a person's total savings they'd be willing to put into a term deposit.\n",
        "  '''\n",
        "  time_on_call = .5\n",
        "  wage = -11 # minimum wage is 6.50 and typicall teller wage is 11\n",
        "  call_cost = wage*time_on_call\n",
        "  average_savings = 4960\n",
        "  percent_in_term_deposit = .75\n",
        "  net_interest_margin = .012\n",
        "  positive_call_benefit = average_savings*percent_in_term_deposit*net_interest_margin\n",
        "  total_earned = incorrect_calls*call_cost + correct_calls*call_cost + correct_calls*positive_call_benefit\n",
        "  return total_earned\n"
      ]
    },
    {
      "cell_type": "code",
      "execution_count": 19,
      "metadata": {
        "id": "LhxXUH3d2Lqy"
      },
      "outputs": [],
      "source": [
        "results_dict = {}"
      ]
    },
    {
      "cell_type": "code",
      "execution_count": 20,
      "metadata": {
        "id": "mS0t9a551Pbw"
      },
      "outputs": [],
      "source": [
        "for group, student_ds in student_datasets.items():\n",
        "  student_dict = {}\n",
        "  cm = confusion_matrix(student_ds, targets)\n",
        "  # print(group,cm)\n",
        "  student_dict[\"Incorrect Calls\"] = cm[1][0]\n",
        "  student_dict[\"Correct Calls\"] = cm[1][1]\n",
        "  student_dict[\"Value of Calls\"] = value_of_calls(cm[1][0],cm[1][1])\n",
        "  student_dict[\"Estimated Grade\"] = recommended_grade(student_dict['Value of Calls'])\n",
        "\n",
        "  results_dict[group] = student_dict"
      ]
    },
    {
      "cell_type": "code",
      "execution_count": 21,
      "metadata": {
        "id": "TOe4NUIX36KP"
      },
      "outputs": [],
      "source": [
        "# results_dict"
      ]
    },
    {
      "cell_type": "code",
      "execution_count": 22,
      "metadata": {
        "colab": {
          "base_uri": "https://localhost:8080/",
          "height": 356
        },
        "id": "DfrNcraU2VwJ",
        "outputId": "7fde0890-1077-4387-df1d-8a2c98e836fe"
      },
      "outputs": [],
      "source": [
        "results_df = pd.DataFrame(results_dict)\n",
        "results_ds_trans = results_df.transpose()\n",
        "results_ds_trans = results_ds_trans.drop(columns=[\"Estimated Grade\"])\n",
        "results_ds_trans = results_ds_trans.round(2)\n",
        "results_ds_trans = results_ds_trans.sort_values(by=\"Value of Calls\",ascending=False)\n",
        "# results_ds_trans.to_csv(\"class_results.csv\")\n",
        "# results_ds_trans"
      ]
    },
    {
      "cell_type": "code",
      "execution_count": 23,
      "metadata": {
        "id": "D3fwfvsg9K3D"
      },
      "outputs": [
        {
          "data": {
            "image/png": "[encoded data removed]",
            "text/plain": [
              "<Figure size 640x480 with 1 Axes>"
            ]
          },
          "metadata": {},
          "output_type": "display_data"
        },
        {
          "data": {
            "text/html": [
              "<div>\n",
              "<style scoped>\n",
              "    .dataframe tbody tr th:only-of-type {\n",
              "        vertical-align: middle;\n",
              "    }\n",
              "\n",
              "    .dataframe tbody tr th {\n",
              "        vertical-align: top;\n",
              "    }\n",
              "\n",
              "    .dataframe thead th {\n",
              "        text-align: right;\n",
              "    }\n",
              "</style>\n",
              "<table border=\"1\" class=\"dataframe\">\n",
              "  <thead>\n",
              "    <tr style=\"text-align: right;\">\n",
              "      <th></th>\n",
              "      <th>Correct Calls</th>\n",
              "      <th>Incorrect Calls</th>\n",
              "      <th>Value of Calls</th>\n",
              "    </tr>\n",
              "  </thead>\n",
              "  <tbody>\n",
              "    <tr>\n",
              "      <th>team2</th>\n",
              "      <td>30.0</td>\n",
              "      <td>74.0</td>\n",
              "      <td>767.2</td>\n",
              "    </tr>\n",
              "  </tbody>\n",
              "</table>\n",
              "</div>"
            ],
            "text/plain": [
              "       Correct Calls  Incorrect Calls  Value of Calls\n",
              "team2           30.0             74.0           767.2"
            ]
          },
          "execution_count": 23,
          "metadata": {},
          "output_type": "execute_result"
        }
      ],
      "source": [
        "# GENERATE GRAPHICS FOR TEAMS\n",
        "# THESE CAN BE SHARED WITH THE STUDENTS\n",
        "\n",
        "graph = sns.barplot(data=results_ds_trans,y=\"Value of Calls\",x=results_ds_trans.index)\n",
        "graph.set_title(\"Amount Earned by Team\")\n",
        "graph.axhline(blue_score)\n",
        "for bar in graph.patches:\n",
        "    if bar.get_height() > blue_score:\n",
        "        bar.set_color('tab:blue')\n",
        "    elif bar.get_height() <0:\n",
        "      bar.set_color('tab:red')\n",
        "    elif bar.get_height() < orange_score:\n",
        "      bar.set_color('tab:orange')\n",
        "    else:\n",
        "        bar.set_color('tab:grey')\n",
        "#The plot is shown\n",
        "plt.show()\n",
        "results_ds_trans"
      ]
    }
  ],
  "metadata": {
    "colab": {
      "name": "Module02-bank-grading_mini.ipynb",
      "provenance": []
    },
    "kernelspec": {
      "display_name": "Python 3",
      "language": "python",
      "name": "python3"
    },
    "language_info": {
      "codemirror_mode": {
        "name": "ipython",
        "version": 3
      },
      "file_extension": ".py",
      "mimetype": "text/x-python",
      "name": "python",
      "nbconvert_exporter": "python",
      "pygments_lexer": "ipython3",
      "version": "3.12.1"
    },
    "vscode": {
      "interpreter": {
        "hash": "011be37f879e0ba7a3d94f28c1e9a24aca4c9c0e96be9163ce8dabdf859b445e"
      }
    }
  },
  "nbformat": 4,
  "nbformat_minor": 0
}
