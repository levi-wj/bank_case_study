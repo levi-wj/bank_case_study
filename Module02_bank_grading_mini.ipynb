{
  "cells": [
    {
      "cell_type": "markdown",
      "metadata": {
        "id": "dYY_wyUQuxmS"
      },
      "source": [
        "Prep work:\n",
        "\n",
        "*   Download team csv predictions file\n",
        "*   Rename files to team8-module2-predictions.csv where team8 is the name of your team\n",
        "*   Make sure file is one column and remove any extra columns\n",
        "*   Make sure the heading is set to \"predictions\" (without quotes)\n",
        "*   Upload csv predictions to session storage area.\n",
        "    *     Click the folder icon, then click the upload icon (paper with an upward arrow)\n",
        "*   Run the notebook (Runtime -> Run all)\n",
        "\n",
        "\n",
        "\n",
        "\n"
      ]
    },
    {
      "cell_type": "code",
      "execution_count": 76,
      "metadata": {
        "id": "ZeZMLW3ytz01"
      },
      "outputs": [],
      "source": [
        "# MODULE 02 - BANK HOLDOUT GRADING\n",
        "\n",
        "from pathlib import Path\n",
        "import pandas as pd\n",
        "import seaborn as sns\n",
        "import matplotlib.pyplot as plt\n",
        "import numpy as np\n",
        "from sklearn.metrics import confusion_matrix\n",
        "\n",
        "blue_score = 650\n",
        "orange_score = 300\n",
        "\n",
        "# READ IN THE CSV FILES\n",
        "team_dir = Path(\"./\")\n",
        "teams = team_dir.glob(\"*-predictions.csv\")\n",
        "team_list = []\n",
        "for team in teams:\n",
        "  # print(latent_file)\n",
        "  team_list.append((str(team).split(\"-\",1)[0],team))\n",
        "\n",
        "# print(team_list)"
      ]
    },
    {
      "cell_type": "code",
      "execution_count": 77,
      "metadata": {
        "id": "HhWSijWbvqMW"
      },
      "outputs": [],
      "source": [
        "# READ IN THE MINI HOLDOUT ANSWERS\n",
        "targets_file = \"https://raw.githubusercontent.com/byui-cse/cse450-course/master/data/bank_holdout_test_mini_answers.csv\"\n",
        "targets = pd.read_csv(targets_file)\n",
        "# targets"
      ]
    },
    {
      "cell_type": "code",
      "execution_count": 78,
      "metadata": {
        "id": "gSHn-_3f0eqx"
      },
      "outputs": [],
      "source": [
        "# ARE THE STUDENT DATASETS THE CORRECT LENGTH\n",
        "student_datasets = {}\n",
        "for (group, file) in team_list:\n",
        "  ds = pd.read_csv(file)\n",
        "\n",
        "  if len(ds) != len(targets):\n",
        "    print(f\"Error group {group} ds had {len(ds)} rows instead of the expected {len(targets)}. It will be excluded.\")\n",
        "  else:\n",
        "    student_datasets[group] = ds\n",
        "    print(f\"Group {group} added successfully\")"
      ]
    },
    {
      "cell_type": "code",
      "execution_count": 79,
      "metadata": {
        "id": "9sBeLEAl1OXi"
      },
      "outputs": [],
      "source": [
        "# student_datasets"
      ]
    },
    {
      "cell_type": "code",
      "execution_count": 80,
      "metadata": {
        "id": "jT2EIFkK-z9c"
      },
      "outputs": [],
      "source": [
        "def recommended_grade(amount):\n",
        "  '''\n",
        "  A simple min max scaler to identify a recommended score for the holdout set\n",
        "  '''\n",
        "  min_allowed = orange_score\n",
        "  max_allowed = blue_score\n",
        "  if amount>max_allowed:\n",
        "    return 100\n",
        "  elif amount<min_allowed:\n",
        "    return 0\n",
        "  else:\n",
        "    return (amount - min_allowed) / (max_allowed - min_allowed)*100\n",
        ""
      ]
    },
    {
      "cell_type": "code",
      "execution_count": 81,
      "metadata": {
        "id": "I6TFZng56xoL"
      },
      "outputs": [],
      "source": [
        "def value_of_calls(incorrect_calls, correct_calls):\n",
        "  '''\n",
        "  This function is based on assumptions about bank employee wages, time requirements,\n",
        "  average savings amounts, and net interest margin. Wages, average savings, and net interest margin,\n",
        "  were pulled from the time range of the dataset. Assumptions were made about time on call and the\n",
        "  percentage of a person's total savings they'd be willing to put into a term deposit.\n",
        "  '''\n",
        "  time_on_call = .5\n",
        "  wage = -11 # minimum wage is 6.50 and typicall teller wage is 11\n",
        "  call_cost = wage*time_on_call\n",
        "  average_savings = 4960\n",
        "  percent_in_term_deposit = .75\n",
        "  net_interest_margin = .012\n",
        "  positive_call_benefit = average_savings*percent_in_term_deposit*net_interest_margin\n",
        "  total_earned = incorrect_calls*call_cost + correct_calls*call_cost + correct_calls*positive_call_benefit\n",
        "  return total_earned\n"
      ]
    },
    {
      "cell_type": "code",
      "execution_count": 82,
      "metadata": {
        "id": "LhxXUH3d2Lqy"
      },
      "outputs": [],
      "source": [
        "results_dict = {}"
      ]
    },
    {
      "cell_type": "code",
      "execution_count": 83,
      "metadata": {
        "id": "mS0t9a551Pbw"
      },
      "outputs": [],
      "source": [
        "for group, student_ds in student_datasets.items():\n",
        "  student_dict = {}\n",
        "  cm = confusion_matrix(student_ds, targets)\n",
        "  # print(group,cm)\n",
        "  student_dict[\"Incorrect Calls\"] = cm[1][0]\n",
        "  student_dict[\"Correct Calls\"] = cm[1][1]\n",
        "  student_dict[\"Value of Calls\"] = value_of_calls(cm[1][0],cm[1][1])\n",
        "  student_dict[\"Estimated Grade\"] = recommended_grade(student_dict['Value of Calls'])\n",
        "\n",
        "  results_dict[group] = student_dict"
      ]
    },
    {
      "cell_type": "code",
      "execution_count": 84,
      "metadata": {
        "id": "TOe4NUIX36KP"
      },
      "outputs": [],
      "source": [
        "# results_dict"
      ]
    },
    {
      "cell_type": "code",
      "execution_count": 85,
      "metadata": {
        "id": "DfrNcraU2VwJ",
        "outputId": "7fde0890-1077-4387-df1d-8a2c98e836fe",
        "colab": {
          "base_uri": "https://localhost:8080/",
          "height": 356
        }
      },
      "outputs": [
        {
          "output_type": "error",
          "ename": "KeyError",
          "evalue": "\"['Estimated Grade'] not found in axis\"",
          "traceback": [
            "\u001b[0;31m---------------------------------------------------------------------------\u001b[0m",
            "\u001b[0;31mKeyError\u001b[0m                                  Traceback (most recent call last)",
            "\u001b[0;32m<ipython-input-85-5a592d7ef21f>\u001b[0m in \u001b[0;36m<cell line: 3>\u001b[0;34m()\u001b[0m\n\u001b[1;32m      1\u001b[0m \u001b[0mresults_df\u001b[0m \u001b[0;34m=\u001b[0m \u001b[0mpd\u001b[0m\u001b[0;34m.\u001b[0m\u001b[0mDataFrame\u001b[0m\u001b[0;34m(\u001b[0m\u001b[0mresults_dict\u001b[0m\u001b[0;34m)\u001b[0m\u001b[0;34m\u001b[0m\u001b[0;34m\u001b[0m\u001b[0m\n\u001b[1;32m      2\u001b[0m \u001b[0mresults_ds_trans\u001b[0m \u001b[0;34m=\u001b[0m \u001b[0mresults_df\u001b[0m\u001b[0;34m.\u001b[0m\u001b[0mtranspose\u001b[0m\u001b[0;34m(\u001b[0m\u001b[0;34m)\u001b[0m\u001b[0;34m\u001b[0m\u001b[0;34m\u001b[0m\u001b[0m\n\u001b[0;32m----> 3\u001b[0;31m \u001b[0mresults_ds_trans\u001b[0m \u001b[0;34m=\u001b[0m \u001b[0mresults_ds_trans\u001b[0m\u001b[0;34m.\u001b[0m\u001b[0mdrop\u001b[0m\u001b[0;34m(\u001b[0m\u001b[0mcolumns\u001b[0m\u001b[0;34m=\u001b[0m\u001b[0;34m[\u001b[0m\u001b[0;34m\"Estimated Grade\"\u001b[0m\u001b[0;34m]\u001b[0m\u001b[0;34m)\u001b[0m\u001b[0;34m\u001b[0m\u001b[0;34m\u001b[0m\u001b[0m\n\u001b[0m\u001b[1;32m      4\u001b[0m \u001b[0mresults_ds_trans\u001b[0m \u001b[0;34m=\u001b[0m \u001b[0mresults_ds_trans\u001b[0m\u001b[0;34m.\u001b[0m\u001b[0mround\u001b[0m\u001b[0;34m(\u001b[0m\u001b[0;36m2\u001b[0m\u001b[0;34m)\u001b[0m\u001b[0;34m\u001b[0m\u001b[0;34m\u001b[0m\u001b[0m\n\u001b[1;32m      5\u001b[0m \u001b[0mresults_ds_trans\u001b[0m \u001b[0;34m=\u001b[0m \u001b[0mresults_ds_trans\u001b[0m\u001b[0;34m.\u001b[0m\u001b[0msort_values\u001b[0m\u001b[0;34m(\u001b[0m\u001b[0mby\u001b[0m\u001b[0;34m=\u001b[0m\u001b[0;34m\"Value of Calls\"\u001b[0m\u001b[0;34m,\u001b[0m\u001b[0mascending\u001b[0m\u001b[0;34m=\u001b[0m\u001b[0;32mFalse\u001b[0m\u001b[0;34m)\u001b[0m\u001b[0;34m\u001b[0m\u001b[0;34m\u001b[0m\u001b[0m\n",
            "\u001b[0;32m/usr/local/lib/python3.10/dist-packages/pandas/core/frame.py\u001b[0m in \u001b[0;36mdrop\u001b[0;34m(self, labels, axis, index, columns, level, inplace, errors)\u001b[0m\n\u001b[1;32m   5579\u001b[0m                 \u001b[0mweight\u001b[0m  \u001b[0;36m1.0\u001b[0m     \u001b[0;36m0.8\u001b[0m\u001b[0;34m\u001b[0m\u001b[0;34m\u001b[0m\u001b[0m\n\u001b[1;32m   5580\u001b[0m         \"\"\"\n\u001b[0;32m-> 5581\u001b[0;31m         return super().drop(\n\u001b[0m\u001b[1;32m   5582\u001b[0m             \u001b[0mlabels\u001b[0m\u001b[0;34m=\u001b[0m\u001b[0mlabels\u001b[0m\u001b[0;34m,\u001b[0m\u001b[0;34m\u001b[0m\u001b[0;34m\u001b[0m\u001b[0m\n\u001b[1;32m   5583\u001b[0m             \u001b[0maxis\u001b[0m\u001b[0;34m=\u001b[0m\u001b[0maxis\u001b[0m\u001b[0;34m,\u001b[0m\u001b[0;34m\u001b[0m\u001b[0;34m\u001b[0m\u001b[0m\n",
            "\u001b[0;32m/usr/local/lib/python3.10/dist-packages/pandas/core/generic.py\u001b[0m in \u001b[0;36mdrop\u001b[0;34m(self, labels, axis, index, columns, level, inplace, errors)\u001b[0m\n\u001b[1;32m   4786\u001b[0m         \u001b[0;32mfor\u001b[0m \u001b[0maxis\u001b[0m\u001b[0;34m,\u001b[0m \u001b[0mlabels\u001b[0m \u001b[0;32min\u001b[0m \u001b[0maxes\u001b[0m\u001b[0;34m.\u001b[0m\u001b[0mitems\u001b[0m\u001b[0;34m(\u001b[0m\u001b[0;34m)\u001b[0m\u001b[0;34m:\u001b[0m\u001b[0;34m\u001b[0m\u001b[0;34m\u001b[0m\u001b[0m\n\u001b[1;32m   4787\u001b[0m             \u001b[0;32mif\u001b[0m \u001b[0mlabels\u001b[0m \u001b[0;32mis\u001b[0m \u001b[0;32mnot\u001b[0m \u001b[0;32mNone\u001b[0m\u001b[0;34m:\u001b[0m\u001b[0;34m\u001b[0m\u001b[0;34m\u001b[0m\u001b[0m\n\u001b[0;32m-> 4788\u001b[0;31m                 \u001b[0mobj\u001b[0m \u001b[0;34m=\u001b[0m \u001b[0mobj\u001b[0m\u001b[0;34m.\u001b[0m\u001b[0m_drop_axis\u001b[0m\u001b[0;34m(\u001b[0m\u001b[0mlabels\u001b[0m\u001b[0;34m,\u001b[0m \u001b[0maxis\u001b[0m\u001b[0;34m,\u001b[0m \u001b[0mlevel\u001b[0m\u001b[0;34m=\u001b[0m\u001b[0mlevel\u001b[0m\u001b[0;34m,\u001b[0m \u001b[0merrors\u001b[0m\u001b[0;34m=\u001b[0m\u001b[0merrors\u001b[0m\u001b[0;34m)\u001b[0m\u001b[0;34m\u001b[0m\u001b[0;34m\u001b[0m\u001b[0m\n\u001b[0m\u001b[1;32m   4789\u001b[0m \u001b[0;34m\u001b[0m\u001b[0m\n\u001b[1;32m   4790\u001b[0m         \u001b[0;32mif\u001b[0m \u001b[0minplace\u001b[0m\u001b[0;34m:\u001b[0m\u001b[0;34m\u001b[0m\u001b[0;34m\u001b[0m\u001b[0m\n",
            "\u001b[0;32m/usr/local/lib/python3.10/dist-packages/pandas/core/generic.py\u001b[0m in \u001b[0;36m_drop_axis\u001b[0;34m(self, labels, axis, level, errors, only_slice)\u001b[0m\n\u001b[1;32m   4828\u001b[0m                 \u001b[0mnew_axis\u001b[0m \u001b[0;34m=\u001b[0m \u001b[0maxis\u001b[0m\u001b[0;34m.\u001b[0m\u001b[0mdrop\u001b[0m\u001b[0;34m(\u001b[0m\u001b[0mlabels\u001b[0m\u001b[0;34m,\u001b[0m \u001b[0mlevel\u001b[0m\u001b[0;34m=\u001b[0m\u001b[0mlevel\u001b[0m\u001b[0;34m,\u001b[0m \u001b[0merrors\u001b[0m\u001b[0;34m=\u001b[0m\u001b[0merrors\u001b[0m\u001b[0;34m)\u001b[0m\u001b[0;34m\u001b[0m\u001b[0;34m\u001b[0m\u001b[0m\n\u001b[1;32m   4829\u001b[0m             \u001b[0;32melse\u001b[0m\u001b[0;34m:\u001b[0m\u001b[0;34m\u001b[0m\u001b[0;34m\u001b[0m\u001b[0m\n\u001b[0;32m-> 4830\u001b[0;31m                 \u001b[0mnew_axis\u001b[0m \u001b[0;34m=\u001b[0m \u001b[0maxis\u001b[0m\u001b[0;34m.\u001b[0m\u001b[0mdrop\u001b[0m\u001b[0;34m(\u001b[0m\u001b[0mlabels\u001b[0m\u001b[0;34m,\u001b[0m \u001b[0merrors\u001b[0m\u001b[0;34m=\u001b[0m\u001b[0merrors\u001b[0m\u001b[0;34m)\u001b[0m\u001b[0;34m\u001b[0m\u001b[0;34m\u001b[0m\u001b[0m\n\u001b[0m\u001b[1;32m   4831\u001b[0m             \u001b[0mindexer\u001b[0m \u001b[0;34m=\u001b[0m \u001b[0maxis\u001b[0m\u001b[0;34m.\u001b[0m\u001b[0mget_indexer\u001b[0m\u001b[0;34m(\u001b[0m\u001b[0mnew_axis\u001b[0m\u001b[0;34m)\u001b[0m\u001b[0;34m\u001b[0m\u001b[0;34m\u001b[0m\u001b[0m\n\u001b[1;32m   4832\u001b[0m \u001b[0;34m\u001b[0m\u001b[0m\n",
            "\u001b[0;32m/usr/local/lib/python3.10/dist-packages/pandas/core/indexes/base.py\u001b[0m in \u001b[0;36mdrop\u001b[0;34m(self, labels, errors)\u001b[0m\n\u001b[1;32m   7068\u001b[0m         \u001b[0;32mif\u001b[0m \u001b[0mmask\u001b[0m\u001b[0;34m.\u001b[0m\u001b[0many\u001b[0m\u001b[0;34m(\u001b[0m\u001b[0;34m)\u001b[0m\u001b[0;34m:\u001b[0m\u001b[0;34m\u001b[0m\u001b[0;34m\u001b[0m\u001b[0m\n\u001b[1;32m   7069\u001b[0m             \u001b[0;32mif\u001b[0m \u001b[0merrors\u001b[0m \u001b[0;34m!=\u001b[0m \u001b[0;34m\"ignore\"\u001b[0m\u001b[0;34m:\u001b[0m\u001b[0;34m\u001b[0m\u001b[0;34m\u001b[0m\u001b[0m\n\u001b[0;32m-> 7070\u001b[0;31m                 \u001b[0;32mraise\u001b[0m \u001b[0mKeyError\u001b[0m\u001b[0;34m(\u001b[0m\u001b[0;34mf\"{labels[mask].tolist()} not found in axis\"\u001b[0m\u001b[0;34m)\u001b[0m\u001b[0;34m\u001b[0m\u001b[0;34m\u001b[0m\u001b[0m\n\u001b[0m\u001b[1;32m   7071\u001b[0m             \u001b[0mindexer\u001b[0m \u001b[0;34m=\u001b[0m \u001b[0mindexer\u001b[0m\u001b[0;34m[\u001b[0m\u001b[0;34m~\u001b[0m\u001b[0mmask\u001b[0m\u001b[0;34m]\u001b[0m\u001b[0;34m\u001b[0m\u001b[0;34m\u001b[0m\u001b[0m\n\u001b[1;32m   7072\u001b[0m         \u001b[0;32mreturn\u001b[0m \u001b[0mself\u001b[0m\u001b[0;34m.\u001b[0m\u001b[0mdelete\u001b[0m\u001b[0;34m(\u001b[0m\u001b[0mindexer\u001b[0m\u001b[0;34m)\u001b[0m\u001b[0;34m\u001b[0m\u001b[0;34m\u001b[0m\u001b[0m\n",
            "\u001b[0;31mKeyError\u001b[0m: \"['Estimated Grade'] not found in axis\""
          ]
        }
      ],
      "source": [
        "results_df = pd.DataFrame(results_dict)\n",
        "results_ds_trans = results_df.transpose()\n",
        "results_ds_trans = results_ds_trans.drop(columns=[\"Estimated Grade\"])\n",
        "results_ds_trans = results_ds_trans.round(2)\n",
        "results_ds_trans = results_ds_trans.sort_values(by=\"Value of Calls\",ascending=False)\n",
        "# results_ds_trans.to_csv(\"class_results.csv\")\n",
        "# results_ds_trans"
      ]
    },
    {
      "cell_type": "code",
      "execution_count": null,
      "metadata": {
        "id": "D3fwfvsg9K3D"
      },
      "outputs": [],
      "source": [
        "# GENERATE GRAPHICS FOR TEAMS\n",
        "# THESE CAN BE SHARED WITH THE STUDENTS\n",
        "\n",
        "graph = sns.barplot(data=results_ds_trans,y=\"Value of Calls\",x=results_ds_trans.index)\n",
        "graph.set_title(\"Amount Earned by Team\")\n",
        "graph.axhline(blue_score)\n",
        "for bar in graph.patches:\n",
        "    if bar.get_height() > blue_score:\n",
        "        bar.set_color('tab:blue')\n",
        "    elif bar.get_height() <0:\n",
        "      bar.set_color('tab:red')\n",
        "    elif bar.get_height() < orange_score:\n",
        "      bar.set_color('tab:orange')\n",
        "    else:\n",
        "        bar.set_color('tab:grey')\n",
        "#The plot is shown\n",
        "plt.show()\n",
        "results_ds_trans"
      ]
    }
  ],
  "metadata": {
    "colab": {
      "name": "Module02-bank-grading_mini.ipynb",
      "provenance": []
    },
    "kernelspec": {
      "display_name": "Python 3",
      "language": "python",
      "name": "python3"
    },
    "language_info": {
      "name": "python",
      "version": "3.8.5"
    },
    "vscode": {
      "interpreter": {
        "hash": "011be37f879e0ba7a3d94f28c1e9a24aca4c9c0e96be9163ce8dabdf859b445e"
      }
    }
  },
  "nbformat": 4,
  "nbformat_minor": 0
}