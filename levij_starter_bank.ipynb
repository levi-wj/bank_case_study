{
  "cells": [
    {
      "cell_type": "code",
      "execution_count": 21,
      "metadata": {
        "id": "mA0HPVmIBT4C"
      },
      "outputs": [],
      "source": [
        "import pandas as pd\n",
        "import plotly.express as px\n",
        "\n",
        "df = pd.read_csv('https://raw.githubusercontent.com/byui-cse/cse450-course/master/data/bank.csv')"
      ]
    },
    {
      "cell_type": "markdown",
      "metadata": {
        "id": "ZMQHegSyxKUF"
      },
      "source": [
        "# Intro and Cleaning"
      ]
    },
    {
      "cell_type": "markdown",
      "metadata": {
        "id": "GsP4eOuanuTz"
      },
      "source": [
        "Just going to go over some base stats of the data. how many rows, how many bad values that may need to be edited or thrown away.\n",
        "\n",
        "In the categorical columns there are missing values labeled as unknown. I want to find them so that I can start to figure out what to do with them."
      ]
    },
    {
      "cell_type": "code",
      "execution_count": 2,
      "metadata": {
        "colab": {
          "base_uri": "https://localhost:8080/"
        },
        "id": "94RVKvs7pAY8",
        "outputId": "4332671b-7ba5-44b5-b6b4-5c996fcfa4a2"
      },
      "outputs": [
        {
          "data": {
            "text/plain": [
              "(37069, 20)"
            ]
          },
          "execution_count": 2,
          "metadata": {},
          "output_type": "execute_result"
        }
      ],
      "source": [
        "df.shape"
      ]
    },
    {
      "cell_type": "code",
      "execution_count": 3,
      "metadata": {
        "colab": {
          "base_uri": "https://localhost:8080/"
        },
        "id": "tQglm-SKpaCS",
        "outputId": "b168ab29-8656-4ac6-e09e-989b9e7b8e9b"
      },
      "outputs": [
        {
          "name": "stdout",
          "output_type": "stream",
          "text": [
            "<class 'pandas.core.frame.DataFrame'>\n",
            "RangeIndex: 37069 entries, 0 to 37068\n",
            "Data columns (total 20 columns):\n",
            " #   Column          Non-Null Count  Dtype  \n",
            "---  ------          --------------  -----  \n",
            " 0   age             37069 non-null  int64  \n",
            " 1   job             37069 non-null  object \n",
            " 2   marital         37069 non-null  object \n",
            " 3   education       37069 non-null  object \n",
            " 4   default         37069 non-null  object \n",
            " 5   housing         37069 non-null  object \n",
            " 6   loan            37069 non-null  object \n",
            " 7   contact         37069 non-null  object \n",
            " 8   month           37069 non-null  object \n",
            " 9   day_of_week     37069 non-null  object \n",
            " 10  campaign        37069 non-null  int64  \n",
            " 11  pdays           37069 non-null  int64  \n",
            " 12  previous        37069 non-null  int64  \n",
            " 13  poutcome        37069 non-null  object \n",
            " 14  emp.var.rate    37069 non-null  float64\n",
            " 15  cons.price.idx  37069 non-null  float64\n",
            " 16  cons.conf.idx   37069 non-null  float64\n",
            " 17  euribor3m       37069 non-null  float64\n",
            " 18  nr.employed     37069 non-null  float64\n",
            " 19  y               37069 non-null  object \n",
            "dtypes: float64(5), int64(4), object(11)\n",
            "memory usage: 5.7+ MB\n"
          ]
        }
      ],
      "source": [
        "df.info()"
      ]
    },
    {
      "cell_type": "code",
      "execution_count": 4,
      "metadata": {
        "colab": {
          "base_uri": "https://localhost:8080/"
        },
        "id": "uIpHyMyrprYD",
        "outputId": "217fc139-de24-4aab-da47-8ece35b52539"
      },
      "outputs": [
        {
          "data": {
            "text/plain": [
              "(9592, 20)"
            ]
          },
          "execution_count": 4,
          "metadata": {},
          "output_type": "execute_result"
        }
      ],
      "source": [
        "unknown_mask = df.isin(['unknown'])\n",
        "\n",
        "# Filter the DataFrame to show rows with 'unknown' values\n",
        "unknown_rows = df[unknown_mask.any(axis=1)]\n",
        "unknown_rows.shape"
      ]
    },
    {
      "cell_type": "markdown",
      "metadata": {
        "id": "v6Z8i5RdrpwN"
      },
      "source": [
        "Going a little deeper, here are the counts of unkown values in each categorical column"
      ]
    },
    {
      "cell_type": "code",
      "execution_count": 5,
      "metadata": {
        "colab": {
          "base_uri": "https://localhost:8080/",
          "height": 237
        },
        "id": "xEEqY23Jr8VC",
        "outputId": "61668a3c-db2a-4088-8daf-a9644ad26d28"
      },
      "outputs": [
        {
          "data": {
            "text/html": [
              "<div>\n",
              "<style scoped>\n",
              "    .dataframe tbody tr th:only-of-type {\n",
              "        vertical-align: middle;\n",
              "    }\n",
              "\n",
              "    .dataframe tbody tr th {\n",
              "        vertical-align: top;\n",
              "    }\n",
              "\n",
              "    .dataframe thead th {\n",
              "        text-align: right;\n",
              "    }\n",
              "</style>\n",
              "<table border=\"1\" class=\"dataframe\">\n",
              "  <thead>\n",
              "    <tr style=\"text-align: right;\">\n",
              "      <th></th>\n",
              "      <th>index</th>\n",
              "      <th>0</th>\n",
              "    </tr>\n",
              "  </thead>\n",
              "  <tbody>\n",
              "    <tr>\n",
              "      <th>0</th>\n",
              "      <td>default</td>\n",
              "      <td>7725</td>\n",
              "    </tr>\n",
              "    <tr>\n",
              "      <th>1</th>\n",
              "      <td>education</td>\n",
              "      <td>1535</td>\n",
              "    </tr>\n",
              "    <tr>\n",
              "      <th>2</th>\n",
              "      <td>housing</td>\n",
              "      <td>894</td>\n",
              "    </tr>\n",
              "    <tr>\n",
              "      <th>3</th>\n",
              "      <td>loan</td>\n",
              "      <td>894</td>\n",
              "    </tr>\n",
              "    <tr>\n",
              "      <th>4</th>\n",
              "      <td>job</td>\n",
              "      <td>294</td>\n",
              "    </tr>\n",
              "    <tr>\n",
              "      <th>5</th>\n",
              "      <td>marital</td>\n",
              "      <td>69</td>\n",
              "    </tr>\n",
              "  </tbody>\n",
              "</table>\n",
              "</div>"
            ],
            "text/plain": [
              "       index     0\n",
              "0    default  7725\n",
              "1  education  1535\n",
              "2    housing   894\n",
              "3       loan   894\n",
              "4        job   294\n",
              "5    marital    69"
            ]
          },
          "execution_count": 5,
          "metadata": {},
          "output_type": "execute_result"
        }
      ],
      "source": [
        "# Define a custom function to count \"unknown\" values\n",
        "def count_unknown(series):\n",
        "    return (series == 'unknown').sum()\n",
        "\n",
        "# Apply the function to each column using agg\n",
        "unknown_counts = df.agg(count_unknown).sort_values(ascending=False).reset_index()\n",
        "unknown_counts = unknown_counts[unknown_counts[0]> 0]\n",
        "unknown_counts"
      ]
    },
    {
      "cell_type": "markdown",
      "metadata": {
        "id": "rgOmoQlXxesw"
      },
      "source": [
        "# Begining Attempts"
      ]
    },
    {
      "cell_type": "markdown",
      "metadata": {
        "id": "1pd14XT-yFDv"
      },
      "source": [
        "What is it that we are actually trying to predict? We already know that some people have a term deposit. does that mean that what we are really looking to do is train models on the data from previous campaigns and find out what(of those people) would be good to reach out to?"
      ]
    },
    {
      "cell_type": "code",
      "execution_count": 6,
      "metadata": {
        "colab": {
          "base_uri": "https://localhost:8080/",
          "height": 178
        },
        "id": "nzj6qQJ8xjN-",
        "outputId": "4eb26365-e5aa-4da7-9239-bab875d5cbbb"
      },
      "outputs": [
        {
          "data": {
            "text/plain": [
              "poutcome\n",
              "success    1238\n",
              "failure     135\n",
              "Name: count, dtype: int64"
            ]
          },
          "execution_count": 6,
          "metadata": {},
          "output_type": "execute_result"
        }
      ],
      "source": [
        "df[df[\"pdays\"] < 999][\"poutcome\"].value_counts()"
      ]
    },
    {
      "cell_type": "code",
      "execution_count": 7,
      "metadata": {
        "colab": {
          "base_uri": "https://localhost:8080/",
          "height": 209
        },
        "id": "TBaZc53I1ld1",
        "outputId": "2d3b9e41-ae09-41c9-e823-91095bb3ad86"
      },
      "outputs": [
        {
          "data": {
            "text/plain": [
              "poutcome\n",
              "nonexistent    31988\n",
              "failure         3843\n",
              "success         1238\n",
              "Name: count, dtype: int64"
            ]
          },
          "execution_count": 7,
          "metadata": {},
          "output_type": "execute_result"
        }
      ],
      "source": [
        "df[\"poutcome\"].value_counts()"
      ]
    },
    {
      "cell_type": "code",
      "execution_count": 22,
      "metadata": {
        "colab": {
          "base_uri": "https://localhost:8080/"
        },
        "id": "I9sxzztL2oSN",
        "outputId": "ead308c3-0f71-4188-d5c1-a8691a481c53"
      },
      "outputs": [
        {
          "name": "stdout",
          "output_type": "stream",
          "text": [
            "Accuracy: 0.75\n"
          ]
        }
      ],
      "source": [
        "from sklearn.tree import DecisionTreeClassifier\n",
        "from sklearn.metrics import accuracy_score\n",
        "from sklearn.model_selection import train_test_split\n",
        "from sklearn.preprocessing import OneHotEncoder\n",
        "\n",
        "df2 = df[df[\"poutcome\"]!=\"nonexistent\"]\n",
        "X = df2.drop(\"y\", axis=1)\n",
        "y = df2[\"y\"]\n",
        "\n",
        "encoder = OneHotEncoder(handle_unknown='ignore')\n",
        "encoder.fit(X)\n",
        "X = encoder.transform(X)\n",
        "# X = pd.get_dummies(X)\n",
        "\n",
        "X_train, X_test, y_train, y_test = train_test_split(X, y, test_size=.2, random_state=42)\n",
        "\n",
        "clf = DecisionTreeClassifier()\n",
        "clf.fit(X_train, y_train)\n",
        "\n",
        "\n",
        "# Make predictions on the test set\n",
        "y_pred = clf.predict(X_test)\n",
        "\n",
        "# Calculate the accuracy score\n",
        "accuracy = accuracy_score(y_test, y_pred)\n",
        "print(f\"Accuracy: {accuracy:.2f}\")"
      ]
    },
    {
      "cell_type": "markdown",
      "metadata": {},
      "source": [
        "### Mini holdout prediction"
      ]
    },
    {
      "cell_type": "code",
      "execution_count": 23,
      "metadata": {},
      "outputs": [],
      "source": [
        "test = pd.read_csv(\"https://raw.githubusercontent.com/byui-cse/cse450-course/master/data/bank_holdout_test_mini.csv\")\n",
        "\n",
        "# Do same transformations as on the training set\n",
        "\n",
        "test_onehot = encoder.transform(test)\n",
        "\n",
        "predictions = clf.predict(test_onehot)\n",
        "\n",
        "# # Convert the predictions to a dataframe and label the column 'y'\n",
        "my_predictions = pd.DataFrame(predictions, columns = ['y'])\n",
        "\n",
        "# # Replace PUTTEAMNUMBERHERE with your team\n",
        "my_predictions.to_csv(\"team2-module2-predictions.csv\",index=False)"
      ]
    }
  ],
  "metadata": {
    "colab": {
      "name": "starter_bank.ipynb",
      "provenance": []
    },
    "kernelspec": {
      "display_name": "Python 3",
      "name": "python3"
    },
    "language_info": {
      "codemirror_mode": {
        "name": "ipython",
        "version": 3
      },
      "file_extension": ".py",
      "mimetype": "text/x-python",
      "name": "python",
      "nbconvert_exporter": "python",
      "pygments_lexer": "ipython3",
      "version": "3.12.1"
    }
  },
  "nbformat": 4,
  "nbformat_minor": 0
}
