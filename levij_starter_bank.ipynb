{
  "cells": [
    {
      "cell_type": "code",
      "execution_count": 21,
      "metadata": {
        "id": "mA0HPVmIBT4C"
      },
      "outputs": [],
      "source": [
        "import pandas as pd\n",
        "\n",
        "df = pd.read_csv('https://raw.githubusercontent.com/byui-cse/cse450-course/master/data/bank.csv')"
      ]
    },
    {
      "cell_type": "markdown",
      "metadata": {
        "id": "ZMQHegSyxKUF"
      },
      "source": [
        "# Intro and Cleaning"
      ]
    },
    {
      "cell_type": "markdown",
      "metadata": {
        "id": "GsP4eOuanuTz"
      },
      "source": [
        "Just going to go over some base stats of the data. how many rows, how many bad values that may need to be edited or thrown away.\n",
        "\n",
        "In the categorical columns there are missing values labeled as unknown. I want to find them so that I can start to figure out what to do with them."
      ]
    },
    {
      "cell_type": "code",
      "execution_count": 2,
      "metadata": {
        "colab": {
          "base_uri": "https://localhost:8080/"
        },
        "id": "94RVKvs7pAY8",
        "outputId": "4332671b-7ba5-44b5-b6b4-5c996fcfa4a2"
      },
      "outputs": [
        {
          "data": {
            "text/plain": [
              "(37069, 20)"
            ]
          },
          "execution_count": 2,
          "metadata": {},
          "output_type": "execute_result"
        }
      ],
      "source": [
        "df.shape"
      ]
    },
    {
      "cell_type": "code",
      "execution_count": 3,
      "metadata": {
        "colab": {
          "base_uri": "https://localhost:8080/"
        },
        "id": "tQglm-SKpaCS",
        "outputId": "b168ab29-8656-4ac6-e09e-989b9e7b8e9b"
      },
      "outputs": [
        {
          "name": "stdout",
          "output_type": "stream",
          "text": [
            "<class 'pandas.core.frame.DataFrame'>\n",
            "RangeIndex: 37069 entries, 0 to 37068\n",
            "Data columns (total 20 columns):\n",
            " #   Column          Non-Null Count  Dtype  \n",
            "---  ------          --------------  -----  \n",
            " 0   age             37069 non-null  int64  \n",
            " 1   job             37069 non-null  object \n",
            " 2   marital         37069 non-null  object \n",
            " 3   education       37069 non-null  object \n",
            " 4   default         37069 non-null  object \n",
            " 5   housing         37069 non-null  object \n",
            " 6   loan            37069 non-null  object \n",
            " 7   contact         37069 non-null  object \n",
            " 8   month           37069 non-null  object \n",
            " 9   day_of_week     37069 non-null  object \n",
            " 10  campaign        37069 non-null  int64  \n",
            " 11  pdays           37069 non-null  int64  \n",
            " 12  previous        37069 non-null  int64  \n",
            " 13  poutcome        37069 non-null  object \n",
            " 14  emp.var.rate    37069 non-null  float64\n",
            " 15  cons.price.idx  37069 non-null  float64\n",
            " 16  cons.conf.idx   37069 non-null  float64\n",
            " 17  euribor3m       37069 non-null  float64\n",
            " 18  nr.employed     37069 non-null  float64\n",
            " 19  y               37069 non-null  object \n",
            "dtypes: float64(5), int64(4), object(11)\n",
            "memory usage: 5.7+ MB\n"
          ]
        }
      ],
      "source": [
        "df.info()"
      ]
    },
    {
      "cell_type": "code",
      "execution_count": 4,
      "metadata": {
        "colab": {
          "base_uri": "https://localhost:8080/"
        },
        "id": "uIpHyMyrprYD",
        "outputId": "217fc139-de24-4aab-da47-8ece35b52539"
      },
      "outputs": [
        {
          "data": {
            "text/plain": [
              "(9592, 20)"
            ]
          },
          "execution_count": 4,
          "metadata": {},
          "output_type": "execute_result"
        }
      ],
      "source": [
        "unknown_mask = df.isin(['unknown'])\n",
        "\n",
        "# Filter the DataFrame to show rows with 'unknown' values\n",
        "unknown_rows = df[unknown_mask.any(axis=1)]\n",
        "unknown_rows.shape"
      ]
    },
    {
      "cell_type": "markdown",
      "metadata": {
        "id": "v6Z8i5RdrpwN"
      },
      "source": [
        "Going a little deeper, here are the counts of unkown values in each categorical column"
      ]
    },
    {
      "cell_type": "code",
      "execution_count": 5,
      "metadata": {
        "colab": {
          "base_uri": "https://localhost:8080/",
          "height": 237
        },
        "id": "xEEqY23Jr8VC",
        "outputId": "61668a3c-db2a-4088-8daf-a9644ad26d28"
      },
      "outputs": [
        {
          "data": {
            "text/html": [
              "<div>\n",
              "<style scoped>\n",
              "    .dataframe tbody tr th:only-of-type {\n",
              "        vertical-align: middle;\n",
              "    }\n",
              "\n",
              "    .dataframe tbody tr th {\n",
              "        vertical-align: top;\n",
              "    }\n",
              "\n",
              "    .dataframe thead th {\n",
              "        text-align: right;\n",
              "    }\n",
              "</style>\n",
              "<table border=\"1\" class=\"dataframe\">\n",
              "  <thead>\n",
              "    <tr style=\"text-align: right;\">\n",
              "      <th></th>\n",
              "      <th>index</th>\n",
              "      <th>0</th>\n",
              "    </tr>\n",
              "  </thead>\n",
              "  <tbody>\n",
              "    <tr>\n",
              "      <th>0</th>\n",
              "      <td>default</td>\n",
              "      <td>7725</td>\n",
              "    </tr>\n",
              "    <tr>\n",
              "      <th>1</th>\n",
              "      <td>education</td>\n",
              "      <td>1535</td>\n",
              "    </tr>\n",
              "    <tr>\n",
              "      <th>2</th>\n",
              "      <td>housing</td>\n",
              "      <td>894</td>\n",
              "    </tr>\n",
              "    <tr>\n",
              "      <th>3</th>\n",
              "      <td>loan</td>\n",
              "      <td>894</td>\n",
              "    </tr>\n",
              "    <tr>\n",
              "      <th>4</th>\n",
              "      <td>job</td>\n",
              "      <td>294</td>\n",
              "    </tr>\n",
              "    <tr>\n",
              "      <th>5</th>\n",
              "      <td>marital</td>\n",
              "      <td>69</td>\n",
              "    </tr>\n",
              "  </tbody>\n",
              "</table>\n",
              "</div>"
            ],
            "text/plain": [
              "       index     0\n",
              "0    default  7725\n",
              "1  education  1535\n",
              "2    housing   894\n",
              "3       loan   894\n",
              "4        job   294\n",
              "5    marital    69"
            ]
          },
          "execution_count": 5,
          "metadata": {},
          "output_type": "execute_result"
        }
      ],
      "source": [
        "# Define a custom function to count \"unknown\" values\n",
        "def count_unknown(series):\n",
        "    return (series == 'unknown').sum()\n",
        "\n",
        "# Apply the function to each column using agg\n",
        "unknown_counts = df.agg(count_unknown).sort_values(ascending=False).reset_index()\n",
        "unknown_counts = unknown_counts[unknown_counts[0]> 0]\n",
        "unknown_counts"
      ]
    },
    {
      "cell_type": "markdown",
      "metadata": {
        "id": "rgOmoQlXxesw"
      },
      "source": [
        "# Begining Attempts"
      ]
    },
    {
      "cell_type": "markdown",
      "metadata": {
        "id": "1pd14XT-yFDv"
      },
      "source": [
        "What is it that we are actually trying to predict? We already know that some people have a term deposit. does that mean that what we are really looking to do is train models on the data from previous campaigns and find out what(of those people) would be good to reach out to?"
      ]
    },
    {
      "cell_type": "code",
      "execution_count": 6,
      "metadata": {
        "colab": {
          "base_uri": "https://localhost:8080/",
          "height": 178
        },
        "id": "nzj6qQJ8xjN-",
        "outputId": "4eb26365-e5aa-4da7-9239-bab875d5cbbb"
      },
      "outputs": [
        {
          "data": {
            "text/plain": [
              "poutcome\n",
              "success    1238\n",
              "failure     135\n",
              "Name: count, dtype: int64"
            ]
          },
          "execution_count": 6,
          "metadata": {},
          "output_type": "execute_result"
        }
      ],
      "source": [
        "df[df[\"pdays\"] < 999][\"poutcome\"].value_counts()"
      ]
    },
    {
      "cell_type": "code",
      "execution_count": null,
      "metadata": {},
      "outputs": [],
      "source": []
    },
    {
      "cell_type": "code",
      "execution_count": 7,
      "metadata": {
        "colab": {
          "base_uri": "https://localhost:8080/",
          "height": 209
        },
        "id": "TBaZc53I1ld1",
        "outputId": "2d3b9e41-ae09-41c9-e823-91095bb3ad86"
      },
      "outputs": [
        {
          "data": {
            "text/plain": [
              "poutcome\n",
              "nonexistent    31988\n",
              "failure         3843\n",
              "success         1238\n",
              "Name: count, dtype: int64"
            ]
          },
          "execution_count": 7,
          "metadata": {},
          "output_type": "execute_result"
        }
      ],
      "source": [
        "df[\"poutcome\"].value_counts()"
      ]
    },
    {
      "cell_type": "markdown",
      "metadata": {},
      "source": [
        "### Train the model"
      ]
    },
    {
      "cell_type": "code",
      "execution_count": 40,
      "metadata": {
        "colab": {
          "base_uri": "https://localhost:8080/"
        },
        "id": "I9sxzztL2oSN",
        "outputId": "ead308c3-0f71-4188-d5c1-a8691a481c53"
      },
      "outputs": [
        {
          "name": "stdout",
          "output_type": "stream",
          "text": [
            "Accuracy: 0.89\n"
          ]
        }
      ],
      "source": [
        "from sklearn.tree import DecisionTreeClassifier\n",
        "from sklearn.metrics import accuracy_score\n",
        "from sklearn.model_selection import train_test_split\n",
        "from sklearn.preprocessing import OneHotEncoder\n",
        "\n",
        "# df2 = df[df[\"poutcome\"]!=\"nonexistent\"]\n",
        "X = df.drop(\"y\", axis=1)\n",
        "y = df[\"y\"]\n",
        "y = y.map({\"no\": 0, \"yes\": 1})\n",
        "\n",
        "\n",
        "df = df.drop_duplicates()\n",
        "encoder = OneHotEncoder(handle_unknown='ignore')\n",
        "encoder.fit(X)\n",
        "X = encoder.transform(X)\n",
        "# X = pd.get_dummies(X)\n",
        "\n",
        "X_train, X_test, y_train, y_test = train_test_split(X, y, test_size=.2, random_state=42)\n",
        "\n",
        "clf = DecisionTreeClassifier(max_depth=20, min_samples_split=100)\n",
        "clf.fit(X_train, y_train)\n",
        "\n",
        "\n",
        "# Make predictions on the test set\n",
        "y_pred = clf.predict(X_test)\n",
        "\n",
        "# Calculate the accuracy score\n",
        "accuracy = accuracy_score(y_test, y_pred)\n",
        "print(f\"Accuracy: {accuracy:.2f}\")"
      ]
    },
    {
      "cell_type": "code",
      "execution_count": 37,
      "metadata": {},
      "outputs": [
        {
          "data": {
            "application/vnd.plotly.v1+json": {
              "config": {
                "plotlyServerURL": "https://plot.ly"
              },
              "data": [
                {
                  "alignmentgroup": "True",
                  "hovertemplate": "variable=0<br>index=%{x}<br>value=%{y}<extra></extra>",
                  "legendgroup": "0",
                  "marker": {
                    "color": "#636efa",
                    "pattern": {
                      "shape": ""
                    }
                  },
                  "name": "0",
                  "offsetgroup": "0",
                  "orientation": "v",
                  "showlegend": true,
                  "textposition": "auto",
                  "type": "bar",
                  "x": [
                    "age_17",
                    "age_18",
                    "age_19",
                    "age_20",
                    "age_21",
                    "age_22",
                    "age_23",
                    "age_24",
                    "age_25",
                    "age_26",
                    "age_27",
                    "age_28",
                    "age_29",
                    "age_30",
                    "age_31",
                    "age_32",
                    "age_33",
                    "age_34",
                    "age_35",
                    "age_36",
                    "age_37",
                    "age_38",
                    "age_39",
                    "age_40",
                    "age_41",
                    "age_42",
                    "age_43",
                    "age_44",
                    "age_45",
                    "age_46",
                    "age_47",
                    "age_48",
                    "age_49",
                    "age_50",
                    "age_51",
                    "age_52",
                    "age_53",
                    "age_54",
                    "age_55",
                    "age_56",
                    "age_57",
                    "age_58",
                    "age_59",
                    "age_60",
                    "age_61",
                    "age_62",
                    "age_63",
                    "age_64",
                    "age_65",
                    "age_66",
                    "age_67",
                    "age_68",
                    "age_69",
                    "age_70",
                    "age_71",
                    "age_72",
                    "age_73",
                    "age_74",
                    "age_75",
                    "age_76",
                    "age_77",
                    "age_78",
                    "age_79",
                    "age_80",
                    "age_81",
                    "age_82",
                    "age_83",
                    "age_84",
                    "age_85",
                    "age_86",
                    "age_88",
                    "age_91",
                    "age_92",
                    "age_94",
                    "age_98",
                    "job_admin.",
                    "job_blue-collar",
                    "job_entrepreneur",
                    "job_housemaid",
                    "job_management",
                    "job_retired",
                    "job_self-employed",
                    "job_services",
                    "job_student",
                    "job_technician",
                    "job_unemployed",
                    "job_unknown",
                    "marital_divorced",
                    "marital_married",
                    "marital_single",
                    "marital_unknown",
                    "education_basic.4y",
                    "education_basic.6y",
                    "education_basic.9y",
                    "education_high.school",
                    "education_illiterate",
                    "education_professional.course",
                    "education_university.degree",
                    "education_unknown",
                    "default_no",
                    "default_unknown",
                    "default_yes",
                    "housing_no",
                    "housing_unknown",
                    "housing_yes",
                    "loan_no",
                    "loan_unknown",
                    "loan_yes",
                    "contact_cellular",
                    "contact_telephone",
                    "month_apr",
                    "month_aug",
                    "month_dec",
                    "month_jul",
                    "month_jun",
                    "month_mar",
                    "month_may",
                    "month_nov",
                    "month_oct",
                    "month_sep",
                    "day_of_week_fri",
                    "day_of_week_mon",
                    "day_of_week_thu",
                    "day_of_week_tue",
                    "day_of_week_wed",
                    "campaign_1",
                    "campaign_2",
                    "campaign_3",
                    "campaign_4",
                    "campaign_5",
                    "campaign_6",
                    "campaign_7",
                    "campaign_8",
                    "campaign_9",
                    "campaign_10",
                    "campaign_11",
                    "campaign_12",
                    "campaign_13",
                    "campaign_15",
                    "campaign_16",
                    "pdays_0",
                    "pdays_1",
                    "pdays_2",
                    "pdays_3",
                    "pdays_4",
                    "pdays_5",
                    "pdays_6",
                    "pdays_7",
                    "pdays_8",
                    "pdays_9",
                    "pdays_10",
                    "pdays_11",
                    "pdays_12",
                    "pdays_13",
                    "pdays_14",
                    "pdays_15",
                    "pdays_16",
                    "pdays_17",
                    "pdays_18",
                    "pdays_19",
                    "pdays_20",
                    "pdays_21",
                    "pdays_22",
                    "pdays_25",
                    "pdays_26",
                    "pdays_27",
                    "pdays_999",
                    "previous_1",
                    "previous_2",
                    "previous_3",
                    "previous_4",
                    "previous_5",
                    "previous_6",
                    "previous_7",
                    "poutcome_failure",
                    "poutcome_success",
                    "emp.var.rate_-3.4",
                    "emp.var.rate_-3.0",
                    "emp.var.rate_-2.9",
                    "emp.var.rate_-1.8",
                    "emp.var.rate_-1.7",
                    "emp.var.rate_-1.1",
                    "emp.var.rate_-0.2",
                    "emp.var.rate_-0.1",
                    "cons.price.idx_92.201",
                    "cons.price.idx_92.379",
                    "cons.price.idx_92.431",
                    "cons.price.idx_92.469",
                    "cons.price.idx_92.649",
                    "cons.price.idx_92.713",
                    "cons.price.idx_92.756",
                    "cons.price.idx_92.843",
                    "cons.price.idx_92.893",
                    "cons.price.idx_92.963",
                    "cons.price.idx_93.075",
                    "cons.price.idx_93.2",
                    "cons.price.idx_93.369",
                    "cons.price.idx_93.749",
                    "cons.price.idx_93.798",
                    "cons.price.idx_93.876",
                    "cons.price.idx_94.027",
                    "cons.price.idx_94.055",
                    "cons.price.idx_94.199",
                    "cons.price.idx_94.215",
                    "cons.price.idx_94.601",
                    "cons.price.idx_94.767",
                    "cons.conf.idx_-50.8",
                    "cons.conf.idx_-50.0",
                    "cons.conf.idx_-49.5",
                    "cons.conf.idx_-47.1",
                    "cons.conf.idx_-46.2",
                    "cons.conf.idx_-45.9",
                    "cons.conf.idx_-42.0",
                    "cons.conf.idx_-40.8",
                    "cons.conf.idx_-40.4",
                    "cons.conf.idx_-40.3",
                    "cons.conf.idx_-40.0",
                    "cons.conf.idx_-39.8",
                    "cons.conf.idx_-38.3",
                    "cons.conf.idx_-37.5",
                    "cons.conf.idx_-34.8",
                    "cons.conf.idx_-34.6",
                    "cons.conf.idx_-33.6",
                    "cons.conf.idx_-33.0",
                    "cons.conf.idx_-31.4",
                    "cons.conf.idx_-30.1",
                    "cons.conf.idx_-29.8",
                    "cons.conf.idx_-26.9",
                    "euribor3m_0.634",
                    "euribor3m_0.635",
                    "euribor3m_0.636",
                    "euribor3m_0.637",
                    "euribor3m_0.638",
                    "euribor3m_0.639",
                    "euribor3m_0.64",
                    "euribor3m_0.642",
                    "euribor3m_0.643",
                    "euribor3m_0.644",
                    "euribor3m_0.645",
                    "euribor3m_0.646",
                    "euribor3m_0.649",
                    "euribor3m_0.65",
                    "euribor3m_0.651",
                    "euribor3m_0.652",
                    "euribor3m_0.653",
                    "euribor3m_0.654",
                    "euribor3m_0.655",
                    "euribor3m_0.659",
                    "euribor3m_0.663",
                    "euribor3m_0.668",
                    "euribor3m_0.672",
                    "euribor3m_0.677",
                    "euribor3m_0.682",
                    "euribor3m_0.683",
                    "euribor3m_0.684",
                    "euribor3m_0.685",
                    "euribor3m_0.688",
                    "euribor3m_0.69",
                    "euribor3m_0.692",
                    "euribor3m_0.695",
                    "euribor3m_0.697",
                    "euribor3m_0.699",
                    "euribor3m_0.7",
                    "euribor3m_0.701",
                    "euribor3m_0.702",
                    "euribor3m_0.704",
                    "euribor3m_0.706",
                    "euribor3m_0.707",
                    "euribor3m_0.708",
                    "euribor3m_0.709",
                    "euribor3m_0.71",
                    "euribor3m_0.712",
                    "euribor3m_0.713",
                    "euribor3m_0.714",
                    "euribor3m_0.715",
                    "euribor3m_0.716",
                    "euribor3m_0.717",
                    "euribor3m_0.718",
                    "euribor3m_0.719",
                    "euribor3m_0.72",
                    "euribor3m_0.721",
                    "euribor3m_0.722",
                    "euribor3m_0.723",
                    "euribor3m_0.724",
                    "euribor3m_0.727",
                    "euribor3m_0.728",
                    "euribor3m_0.729",
                    "euribor3m_0.73",
                    "euribor3m_0.731",
                    "euribor3m_0.732",
                    "euribor3m_0.733",
                    "euribor3m_0.735",
                    "euribor3m_0.737",
                    "euribor3m_0.739",
                    "euribor3m_0.74",
                    "euribor3m_0.741",
                    "euribor3m_0.742",
                    "euribor3m_0.743",
                    "euribor3m_0.744",
                    "euribor3m_0.748",
                    "euribor3m_0.749",
                    "euribor3m_0.75",
                    "euribor3m_0.752",
                    "euribor3m_0.753",
                    "euribor3m_0.754",
                    "euribor3m_0.755",
                    "euribor3m_0.761",
                    "euribor3m_0.762",
                    "euribor3m_0.767",
                    "euribor3m_0.768",
                    "euribor3m_0.77",
                    "euribor3m_0.771",
                    "euribor3m_0.773",
                    "euribor3m_0.778",
                    "euribor3m_0.781",
                    "euribor3m_0.782",
                    "euribor3m_0.788",
                    "euribor3m_0.79",
                    "euribor3m_0.793",
                    "euribor3m_0.797",
                    "euribor3m_0.802",
                    "euribor3m_0.803",
                    "euribor3m_0.809",
                    "euribor3m_0.81",
                    "euribor3m_0.813",
                    "euribor3m_0.819",
                    "euribor3m_0.821",
                    "euribor3m_0.822",
                    "euribor3m_0.825",
                    "euribor3m_0.827",
                    "euribor3m_0.829",
                    "euribor3m_0.834",
                    "euribor3m_0.835",
                    "euribor3m_0.838",
                    "euribor3m_0.84",
                    "euribor3m_0.843",
                    "euribor3m_0.846",
                    "euribor3m_0.849",
                    "euribor3m_0.851",
                    "euribor3m_0.854",
                    "euribor3m_0.859",
                    "euribor3m_0.861",
                    "euribor3m_0.869",
                    "euribor3m_0.87",
                    "euribor3m_0.873",
                    "euribor3m_0.876",
                    "euribor3m_0.877",
                    "euribor3m_0.878",
                    "euribor3m_0.879",
                    "euribor3m_0.88",
                    "euribor3m_0.881",
                    "euribor3m_0.882",
                    "euribor3m_0.883",
                    "euribor3m_0.884",
                    "euribor3m_0.885",
                    "euribor3m_0.886",
                    "euribor3m_0.889",
                    "euribor3m_0.89",
                    "euribor3m_0.891",
                    "euribor3m_0.893",
                    "euribor3m_0.894",
                    "euribor3m_0.895",
                    "euribor3m_0.896",
                    "euribor3m_0.898",
                    "euribor3m_0.899",
                    "euribor3m_0.9",
                    "euribor3m_0.903",
                    "euribor3m_0.904",
                    "euribor3m_0.905",
                    "euribor3m_0.908",
                    "euribor3m_0.942",
                    "euribor3m_0.959",
                    "euribor3m_0.965",
                    "euribor3m_0.972",
                    "euribor3m_0.977",
                    "euribor3m_0.979",
                    "euribor3m_0.982",
                    "euribor3m_0.985",
                    "euribor3m_0.987",
                    "euribor3m_0.993",
                    "euribor3m_1.0",
                    "euribor3m_1.008",
                    "euribor3m_1.016",
                    "euribor3m_1.025",
                    "euribor3m_1.028",
                    "euribor3m_1.029",
                    "euribor3m_1.03",
                    "euribor3m_1.031",
                    "euribor3m_1.032",
                    "euribor3m_1.035",
                    "euribor3m_1.037",
                    "euribor3m_1.039",
                    "euribor3m_1.04",
                    "euribor3m_1.041",
                    "euribor3m_1.043",
                    "euribor3m_1.044",
                    "euribor3m_1.046",
                    "euribor3m_1.047",
                    "euribor3m_1.048",
                    "euribor3m_1.049",
                    "euribor3m_1.05",
                    "euribor3m_1.059",
                    "euribor3m_1.072",
                    "euribor3m_1.085",
                    "euribor3m_1.099",
                    "euribor3m_1.206",
                    "euribor3m_1.215",
                    "euribor3m_1.224",
                    "euribor3m_1.235",
                    "euribor3m_1.244",
                    "euribor3m_1.25",
                    "euribor3m_1.252",
                    "euribor3m_1.259",
                    "euribor3m_1.26",
                    "euribor3m_1.262",
                    "euribor3m_1.264",
                    "euribor3m_1.266",
                    "euribor3m_1.268",
                    "euribor3m_1.27",
                    "euribor3m_1.281",
                    "euribor3m_1.286",
                    "euribor3m_1.291",
                    "euribor3m_1.299",
                    "euribor3m_1.313",
                    "euribor3m_1.327",
                    "euribor3m_1.334",
                    "euribor3m_1.344",
                    "euribor3m_1.354",
                    "euribor3m_1.365",
                    "euribor3m_1.372",
                    "euribor3m_1.392",
                    "euribor3m_1.4",
                    "euribor3m_1.405",
                    "euribor3m_1.41",
                    "euribor3m_1.415",
                    "euribor3m_1.423",
                    "euribor3m_1.435",
                    "euribor3m_1.445",
                    "euribor3m_1.453",
                    "euribor3m_1.466",
                    "euribor3m_1.479",
                    "euribor3m_1.483",
                    "euribor3m_1.498",
                    "euribor3m_1.51",
                    "euribor3m_1.52",
                    "euribor3m_1.531",
                    "euribor3m_1.538",
                    "euribor3m_1.56",
                    "euribor3m_1.602",
                    "euribor3m_1.614",
                    "euribor3m_1.629",
                    "euribor3m_1.64",
                    "euribor3m_1.663",
                    "euribor3m_1.687",
                    "euribor3m_1.703",
                    "euribor3m_1.726",
                    "euribor3m_1.757",
                    "euribor3m_1.811",
                    "euribor3m_3.743",
                    "euribor3m_4.021",
                    "euribor3m_4.076",
                    "euribor3m_4.12",
                    "euribor3m_4.153",
                    "euribor3m_4.191",
                    "euribor3m_4.245",
                    "euribor3m_4.286",
                    "euribor3m_4.663",
                    "euribor3m_4.968",
                    "nr.employed_4963.6",
                    "nr.employed_4991.6",
                    "nr.employed_5008.7",
                    "nr.employed_5017.5",
                    "nr.employed_5023.5",
                    "nr.employed_5076.2",
                    "nr.employed_5099.1",
                    "nr.employed_5176.3",
                    "nr.employed_5195.8"
                  ],
                  "xaxis": "x",
                  "y": [
                    0,
                    0,
                    0,
                    0.002684798952204189,
                    0,
                    0.0021300010552247175,
                    0,
                    0.0010240263175974934,
                    0.002234490042182974,
                    0,
                    0,
                    0.0004760431562482553,
                    0.0016927656987485303,
                    0,
                    0.0011034601553636812,
                    0.004210728006575993,
                    0.00028435460799727905,
                    0,
                    0.0037372854938539242,
                    0,
                    0.002647713527436823,
                    0.0005857066635940715,
                    0.0003006066997852674,
                    0,
                    0,
                    0.00048430724486512325,
                    0.0009732551681544235,
                    0,
                    0.0006987293384659702,
                    0.002126911886581777,
                    0.0006561720083110669,
                    0,
                    0.0006210977089418197,
                    0,
                    0.0010669675483086095,
                    0.0006115136395405555,
                    0,
                    0,
                    0.00076865839534386,
                    0.0007009251862914714,
                    0,
                    0,
                    0,
                    0,
                    0.0024252144455136856,
                    0,
                    0.004595209632691113,
                    0.0024313213733717642,
                    0,
                    0,
                    0,
                    0,
                    0,
                    0.0024343834909703586,
                    0,
                    0,
                    0,
                    0,
                    0.002437451397070964,
                    0,
                    0,
                    0,
                    0,
                    0,
                    0.0020445745884090987,
                    0,
                    0,
                    0,
                    0,
                    0,
                    0,
                    0,
                    0,
                    0,
                    0,
                    0,
                    0,
                    0.002600769863898207,
                    0.00241184376596923,
                    0.00035160314955156083,
                    0.002004008492502667,
                    0,
                    0.00031913381198875936,
                    0,
                    0,
                    0,
                    0,
                    0,
                    0.0029783335017693783,
                    0,
                    0,
                    0,
                    0.0025778612637032696,
                    0,
                    0.0003598798242529336,
                    0,
                    0.00015242320445517344,
                    0.0017786582325478146,
                    0.003045069163330734,
                    0,
                    0,
                    0,
                    0.003945176813145546,
                    0,
                    0,
                    0,
                    0,
                    0,
                    0,
                    0,
                    0.008455790954465258,
                    0,
                    0,
                    0,
                    0,
                    0.0032450013860651,
                    0,
                    0,
                    0.0018458048032604338,
                    0,
                    0.002441798326314465,
                    0.009226764483383908,
                    0,
                    0.003138572591218866,
                    0.0028488703273544984,
                    0.0005526844068437,
                    0.003368540085009541,
                    0.0028286060945115162,
                    0.005993887836401086,
                    0.0002303799956861206,
                    0,
                    0,
                    0,
                    0,
                    0.0011464876318655426,
                    0,
                    0,
                    0,
                    0,
                    0,
                    0,
                    0.0026217467912327077,
                    0,
                    0,
                    0.004225656578774813,
                    0,
                    0,
                    0,
                    0,
                    0.0025291954659272505,
                    0,
                    0,
                    0,
                    0,
                    0.0026236550590395358,
                    0,
                    0,
                    0.004610527606144172,
                    0,
                    0,
                    0,
                    0,
                    0.0020565662282237703,
                    0,
                    0,
                    0,
                    0.5823872020883284,
                    0,
                    0,
                    0.0017985222710813619,
                    0.0038498379829874424,
                    0,
                    0,
                    0.002068663676625148,
                    0.0036728701314686888,
                    0,
                    0,
                    0,
                    0.01616630470507716,
                    0,
                    0,
                    0,
                    0,
                    0.025855580069402462,
                    0,
                    0,
                    0,
                    0,
                    0,
                    0,
                    0,
                    0,
                    0.03286720365364763,
                    0,
                    0.005103486878268688,
                    0,
                    0,
                    0,
                    0,
                    0,
                    0,
                    0,
                    0,
                    0.004871933486932209,
                    0,
                    0,
                    0,
                    0,
                    0,
                    0,
                    0,
                    0,
                    0.05910930112869874,
                    0,
                    0,
                    0,
                    0,
                    0,
                    0,
                    0,
                    0,
                    0,
                    0,
                    0,
                    0,
                    0,
                    0,
                    0,
                    0,
                    0,
                    0,
                    0,
                    0,
                    0,
                    0,
                    0,
                    0,
                    0,
                    0,
                    0,
                    0,
                    0.004945492381485308,
                    0,
                    0,
                    0,
                    0,
                    0.0036750966594668137,
                    0,
                    0,
                    0,
                    0,
                    0,
                    0,
                    0,
                    0,
                    0,
                    0,
                    0,
                    0,
                    0,
                    0,
                    0.0030197610007137348,
                    0,
                    0,
                    0,
                    0,
                    0,
                    0,
                    0,
                    0,
                    0,
                    0,
                    0,
                    0.005590798405900002,
                    0,
                    0.002093276899100158,
                    0,
                    0.00345511240680669,
                    0,
                    0.002304396801729545,
                    0,
                    0,
                    0.0033658166900846468,
                    0,
                    0,
                    0,
                    0,
                    0.005386534699214719,
                    0,
                    0,
                    0,
                    0,
                    0,
                    0,
                    0,
                    0,
                    0.003476558769209775,
                    0,
                    0,
                    0,
                    0,
                    0,
                    0,
                    0,
                    0.0033186598888224265,
                    0,
                    0,
                    0,
                    0.003045190567035557,
                    0,
                    0.0028611244546123196,
                    0,
                    0,
                    0,
                    0.0020326875268485466,
                    0,
                    0,
                    0,
                    0,
                    0.0016116931291220626,
                    0,
                    0,
                    0.002057494388004426,
                    0,
                    0,
                    0.003479434885671781,
                    0,
                    0,
                    0,
                    0,
                    0.0028454898947511634,
                    0,
                    0,
                    0,
                    0,
                    0,
                    0,
                    0,
                    0,
                    0,
                    0,
                    0,
                    0,
                    0,
                    0,
                    0,
                    0.0028768882257121254,
                    0,
                    0,
                    0,
                    0,
                    0,
                    0,
                    0,
                    0,
                    0,
                    0,
                    0,
                    0,
                    0,
                    0.0020209038310407034,
                    0,
                    0,
                    0,
                    0,
                    0,
                    0,
                    0,
                    0,
                    0,
                    0,
                    0,
                    0,
                    0,
                    0,
                    0,
                    0.001653018593971329,
                    0,
                    0,
                    0,
                    0,
                    0,
                    0,
                    0,
                    0,
                    0,
                    0,
                    0,
                    0,
                    0,
                    0,
                    0,
                    0,
                    0,
                    0,
                    0,
                    0,
                    0,
                    0.002131225735887192,
                    0,
                    0,
                    0,
                    0,
                    0,
                    0,
                    0,
                    0,
                    0,
                    0,
                    0.00108166466976781,
                    0.0010635867684985153,
                    0,
                    0.0031623786225316117,
                    0,
                    0,
                    0.004501429564715635,
                    0,
                    0,
                    0.0006070601322137911,
                    0,
                    0,
                    0,
                    0,
                    0,
                    0,
                    0,
                    0,
                    0.00697162999534401,
                    0.003227226434692574,
                    0.0010989705255407727,
                    0,
                    0,
                    0,
                    0,
                    0,
                    0.0011245703007475981,
                    0.0011193792902460594,
                    0,
                    0,
                    0.0002336183361898237,
                    0.00016353771706274436,
                    0,
                    0,
                    0,
                    0,
                    0,
                    0,
                    0,
                    0,
                    0,
                    0,
                    0,
                    0,
                    0,
                    0,
                    0,
                    0,
                    0,
                    0,
                    0,
                    0,
                    0,
                    0,
                    0,
                    0,
                    0,
                    0,
                    0,
                    0.0031408230334957475,
                    0,
                    0,
                    0,
                    0,
                    0,
                    0.03280259153276173,
                    0,
                    0
                  ],
                  "yaxis": "y"
                }
              ],
              "layout": {
                "barmode": "relative",
                "legend": {
                  "title": {
                    "text": "variable"
                  },
                  "tracegroupgap": 0
                },
                "template": {
                  "data": {
                    "bar": [
                      {
                        "error_x": {
                          "color": "#2a3f5f"
                        },
                        "error_y": {
                          "color": "#2a3f5f"
                        },
                        "marker": {
                          "line": {
                            "color": "#E5ECF6",
                            "width": 0.5
                          },
                          "pattern": {
                            "fillmode": "overlay",
                            "size": 10,
                            "solidity": 0.2
                          }
                        },
                        "type": "bar"
                      }
                    ],
                    "barpolar": [
                      {
                        "marker": {
                          "line": {
                            "color": "#E5ECF6",
                            "width": 0.5
                          },
                          "pattern": {
                            "fillmode": "overlay",
                            "size": 10,
                            "solidity": 0.2
                          }
                        },
                        "type": "barpolar"
                      }
                    ],
                    "carpet": [
                      {
                        "aaxis": {
                          "endlinecolor": "#2a3f5f",
                          "gridcolor": "white",
                          "linecolor": "white",
                          "minorgridcolor": "white",
                          "startlinecolor": "#2a3f5f"
                        },
                        "baxis": {
                          "endlinecolor": "#2a3f5f",
                          "gridcolor": "white",
                          "linecolor": "white",
                          "minorgridcolor": "white",
                          "startlinecolor": "#2a3f5f"
                        },
                        "type": "carpet"
                      }
                    ],
                    "choropleth": [
                      {
                        "colorbar": {
                          "outlinewidth": 0,
                          "ticks": ""
                        },
                        "type": "choropleth"
                      }
                    ],
                    "contour": [
                      {
                        "colorbar": {
                          "outlinewidth": 0,
                          "ticks": ""
                        },
                        "colorscale": [
                          [
                            0,
                            "#0d0887"
                          ],
                          [
                            0.1111111111111111,
                            "#46039f"
                          ],
                          [
                            0.2222222222222222,
                            "#7201a8"
                          ],
                          [
                            0.3333333333333333,
                            "#9c179e"
                          ],
                          [
                            0.4444444444444444,
                            "#bd3786"
                          ],
                          [
                            0.5555555555555556,
                            "#d8576b"
                          ],
                          [
                            0.6666666666666666,
                            "#ed7953"
                          ],
                          [
                            0.7777777777777778,
                            "#fb9f3a"
                          ],
                          [
                            0.8888888888888888,
                            "#fdca26"
                          ],
                          [
                            1,
                            "#f0f921"
                          ]
                        ],
                        "type": "contour"
                      }
                    ],
                    "contourcarpet": [
                      {
                        "colorbar": {
                          "outlinewidth": 0,
                          "ticks": ""
                        },
                        "type": "contourcarpet"
                      }
                    ],
                    "heatmap": [
                      {
                        "colorbar": {
                          "outlinewidth": 0,
                          "ticks": ""
                        },
                        "colorscale": [
                          [
                            0,
                            "#0d0887"
                          ],
                          [
                            0.1111111111111111,
                            "#46039f"
                          ],
                          [
                            0.2222222222222222,
                            "#7201a8"
                          ],
                          [
                            0.3333333333333333,
                            "#9c179e"
                          ],
                          [
                            0.4444444444444444,
                            "#bd3786"
                          ],
                          [
                            0.5555555555555556,
                            "#d8576b"
                          ],
                          [
                            0.6666666666666666,
                            "#ed7953"
                          ],
                          [
                            0.7777777777777778,
                            "#fb9f3a"
                          ],
                          [
                            0.8888888888888888,
                            "#fdca26"
                          ],
                          [
                            1,
                            "#f0f921"
                          ]
                        ],
                        "type": "heatmap"
                      }
                    ],
                    "heatmapgl": [
                      {
                        "colorbar": {
                          "outlinewidth": 0,
                          "ticks": ""
                        },
                        "colorscale": [
                          [
                            0,
                            "#0d0887"
                          ],
                          [
                            0.1111111111111111,
                            "#46039f"
                          ],
                          [
                            0.2222222222222222,
                            "#7201a8"
                          ],
                          [
                            0.3333333333333333,
                            "#9c179e"
                          ],
                          [
                            0.4444444444444444,
                            "#bd3786"
                          ],
                          [
                            0.5555555555555556,
                            "#d8576b"
                          ],
                          [
                            0.6666666666666666,
                            "#ed7953"
                          ],
                          [
                            0.7777777777777778,
                            "#fb9f3a"
                          ],
                          [
                            0.8888888888888888,
                            "#fdca26"
                          ],
                          [
                            1,
                            "#f0f921"
                          ]
                        ],
                        "type": "heatmapgl"
                      }
                    ],
                    "histogram": [
                      {
                        "marker": {
                          "pattern": {
                            "fillmode": "overlay",
                            "size": 10,
                            "solidity": 0.2
                          }
                        },
                        "type": "histogram"
                      }
                    ],
                    "histogram2d": [
                      {
                        "colorbar": {
                          "outlinewidth": 0,
                          "ticks": ""
                        },
                        "colorscale": [
                          [
                            0,
                            "#0d0887"
                          ],
                          [
                            0.1111111111111111,
                            "#46039f"
                          ],
                          [
                            0.2222222222222222,
                            "#7201a8"
                          ],
                          [
                            0.3333333333333333,
                            "#9c179e"
                          ],
                          [
                            0.4444444444444444,
                            "#bd3786"
                          ],
                          [
                            0.5555555555555556,
                            "#d8576b"
                          ],
                          [
                            0.6666666666666666,
                            "#ed7953"
                          ],
                          [
                            0.7777777777777778,
                            "#fb9f3a"
                          ],
                          [
                            0.8888888888888888,
                            "#fdca26"
                          ],
                          [
                            1,
                            "#f0f921"
                          ]
                        ],
                        "type": "histogram2d"
                      }
                    ],
                    "histogram2dcontour": [
                      {
                        "colorbar": {
                          "outlinewidth": 0,
                          "ticks": ""
                        },
                        "colorscale": [
                          [
                            0,
                            "#0d0887"
                          ],
                          [
                            0.1111111111111111,
                            "#46039f"
                          ],
                          [
                            0.2222222222222222,
                            "#7201a8"
                          ],
                          [
                            0.3333333333333333,
                            "#9c179e"
                          ],
                          [
                            0.4444444444444444,
                            "#bd3786"
                          ],
                          [
                            0.5555555555555556,
                            "#d8576b"
                          ],
                          [
                            0.6666666666666666,
                            "#ed7953"
                          ],
                          [
                            0.7777777777777778,
                            "#fb9f3a"
                          ],
                          [
                            0.8888888888888888,
                            "#fdca26"
                          ],
                          [
                            1,
                            "#f0f921"
                          ]
                        ],
                        "type": "histogram2dcontour"
                      }
                    ],
                    "mesh3d": [
                      {
                        "colorbar": {
                          "outlinewidth": 0,
                          "ticks": ""
                        },
                        "type": "mesh3d"
                      }
                    ],
                    "parcoords": [
                      {
                        "line": {
                          "colorbar": {
                            "outlinewidth": 0,
                            "ticks": ""
                          }
                        },
                        "type": "parcoords"
                      }
                    ],
                    "pie": [
                      {
                        "automargin": true,
                        "type": "pie"
                      }
                    ],
                    "scatter": [
                      {
                        "fillpattern": {
                          "fillmode": "overlay",
                          "size": 10,
                          "solidity": 0.2
                        },
                        "type": "scatter"
                      }
                    ],
                    "scatter3d": [
                      {
                        "line": {
                          "colorbar": {
                            "outlinewidth": 0,
                            "ticks": ""
                          }
                        },
                        "marker": {
                          "colorbar": {
                            "outlinewidth": 0,
                            "ticks": ""
                          }
                        },
                        "type": "scatter3d"
                      }
                    ],
                    "scattercarpet": [
                      {
                        "marker": {
                          "colorbar": {
                            "outlinewidth": 0,
                            "ticks": ""
                          }
                        },
                        "type": "scattercarpet"
                      }
                    ],
                    "scattergeo": [
                      {
                        "marker": {
                          "colorbar": {
                            "outlinewidth": 0,
                            "ticks": ""
                          }
                        },
                        "type": "scattergeo"
                      }
                    ],
                    "scattergl": [
                      {
                        "marker": {
                          "colorbar": {
                            "outlinewidth": 0,
                            "ticks": ""
                          }
                        },
                        "type": "scattergl"
                      }
                    ],
                    "scattermapbox": [
                      {
                        "marker": {
                          "colorbar": {
                            "outlinewidth": 0,
                            "ticks": ""
                          }
                        },
                        "type": "scattermapbox"
                      }
                    ],
                    "scatterpolar": [
                      {
                        "marker": {
                          "colorbar": {
                            "outlinewidth": 0,
                            "ticks": ""
                          }
                        },
                        "type": "scatterpolar"
                      }
                    ],
                    "scatterpolargl": [
                      {
                        "marker": {
                          "colorbar": {
                            "outlinewidth": 0,
                            "ticks": ""
                          }
                        },
                        "type": "scatterpolargl"
                      }
                    ],
                    "scatterternary": [
                      {
                        "marker": {
                          "colorbar": {
                            "outlinewidth": 0,
                            "ticks": ""
                          }
                        },
                        "type": "scatterternary"
                      }
                    ],
                    "surface": [
                      {
                        "colorbar": {
                          "outlinewidth": 0,
                          "ticks": ""
                        },
                        "colorscale": [
                          [
                            0,
                            "#0d0887"
                          ],
                          [
                            0.1111111111111111,
                            "#46039f"
                          ],
                          [
                            0.2222222222222222,
                            "#7201a8"
                          ],
                          [
                            0.3333333333333333,
                            "#9c179e"
                          ],
                          [
                            0.4444444444444444,
                            "#bd3786"
                          ],
                          [
                            0.5555555555555556,
                            "#d8576b"
                          ],
                          [
                            0.6666666666666666,
                            "#ed7953"
                          ],
                          [
                            0.7777777777777778,
                            "#fb9f3a"
                          ],
                          [
                            0.8888888888888888,
                            "#fdca26"
                          ],
                          [
                            1,
                            "#f0f921"
                          ]
                        ],
                        "type": "surface"
                      }
                    ],
                    "table": [
                      {
                        "cells": {
                          "fill": {
                            "color": "#EBF0F8"
                          },
                          "line": {
                            "color": "white"
                          }
                        },
                        "header": {
                          "fill": {
                            "color": "#C8D4E3"
                          },
                          "line": {
                            "color": "white"
                          }
                        },
                        "type": "table"
                      }
                    ]
                  },
                  "layout": {
                    "annotationdefaults": {
                      "arrowcolor": "#2a3f5f",
                      "arrowhead": 0,
                      "arrowwidth": 1
                    },
                    "autotypenumbers": "strict",
                    "coloraxis": {
                      "colorbar": {
                        "outlinewidth": 0,
                        "ticks": ""
                      }
                    },
                    "colorscale": {
                      "diverging": [
                        [
                          0,
                          "#8e0152"
                        ],
                        [
                          0.1,
                          "#c51b7d"
                        ],
                        [
                          0.2,
                          "#de77ae"
                        ],
                        [
                          0.3,
                          "#f1b6da"
                        ],
                        [
                          0.4,
                          "#fde0ef"
                        ],
                        [
                          0.5,
                          "#f7f7f7"
                        ],
                        [
                          0.6,
                          "#e6f5d0"
                        ],
                        [
                          0.7,
                          "#b8e186"
                        ],
                        [
                          0.8,
                          "#7fbc41"
                        ],
                        [
                          0.9,
                          "#4d9221"
                        ],
                        [
                          1,
                          "#276419"
                        ]
                      ],
                      "sequential": [
                        [
                          0,
                          "#0d0887"
                        ],
                        [
                          0.1111111111111111,
                          "#46039f"
                        ],
                        [
                          0.2222222222222222,
                          "#7201a8"
                        ],
                        [
                          0.3333333333333333,
                          "#9c179e"
                        ],
                        [
                          0.4444444444444444,
                          "#bd3786"
                        ],
                        [
                          0.5555555555555556,
                          "#d8576b"
                        ],
                        [
                          0.6666666666666666,
                          "#ed7953"
                        ],
                        [
                          0.7777777777777778,
                          "#fb9f3a"
                        ],
                        [
                          0.8888888888888888,
                          "#fdca26"
                        ],
                        [
                          1,
                          "#f0f921"
                        ]
                      ],
                      "sequentialminus": [
                        [
                          0,
                          "#0d0887"
                        ],
                        [
                          0.1111111111111111,
                          "#46039f"
                        ],
                        [
                          0.2222222222222222,
                          "#7201a8"
                        ],
                        [
                          0.3333333333333333,
                          "#9c179e"
                        ],
                        [
                          0.4444444444444444,
                          "#bd3786"
                        ],
                        [
                          0.5555555555555556,
                          "#d8576b"
                        ],
                        [
                          0.6666666666666666,
                          "#ed7953"
                        ],
                        [
                          0.7777777777777778,
                          "#fb9f3a"
                        ],
                        [
                          0.8888888888888888,
                          "#fdca26"
                        ],
                        [
                          1,
                          "#f0f921"
                        ]
                      ]
                    },
                    "colorway": [
                      "#636efa",
                      "#EF553B",
                      "#00cc96",
                      "#ab63fa",
                      "#FFA15A",
                      "#19d3f3",
                      "#FF6692",
                      "#B6E880",
                      "#FF97FF",
                      "#FECB52"
                    ],
                    "font": {
                      "color": "#2a3f5f"
                    },
                    "geo": {
                      "bgcolor": "white",
                      "lakecolor": "white",
                      "landcolor": "#E5ECF6",
                      "showlakes": true,
                      "showland": true,
                      "subunitcolor": "white"
                    },
                    "hoverlabel": {
                      "align": "left"
                    },
                    "hovermode": "closest",
                    "mapbox": {
                      "style": "light"
                    },
                    "paper_bgcolor": "white",
                    "plot_bgcolor": "#E5ECF6",
                    "polar": {
                      "angularaxis": {
                        "gridcolor": "white",
                        "linecolor": "white",
                        "ticks": ""
                      },
                      "bgcolor": "#E5ECF6",
                      "radialaxis": {
                        "gridcolor": "white",
                        "linecolor": "white",
                        "ticks": ""
                      }
                    },
                    "scene": {
                      "xaxis": {
                        "backgroundcolor": "#E5ECF6",
                        "gridcolor": "white",
                        "gridwidth": 2,
                        "linecolor": "white",
                        "showbackground": true,
                        "ticks": "",
                        "zerolinecolor": "white"
                      },
                      "yaxis": {
                        "backgroundcolor": "#E5ECF6",
                        "gridcolor": "white",
                        "gridwidth": 2,
                        "linecolor": "white",
                        "showbackground": true,
                        "ticks": "",
                        "zerolinecolor": "white"
                      },
                      "zaxis": {
                        "backgroundcolor": "#E5ECF6",
                        "gridcolor": "white",
                        "gridwidth": 2,
                        "linecolor": "white",
                        "showbackground": true,
                        "ticks": "",
                        "zerolinecolor": "white"
                      }
                    },
                    "shapedefaults": {
                      "line": {
                        "color": "#2a3f5f"
                      }
                    },
                    "ternary": {
                      "aaxis": {
                        "gridcolor": "white",
                        "linecolor": "white",
                        "ticks": ""
                      },
                      "baxis": {
                        "gridcolor": "white",
                        "linecolor": "white",
                        "ticks": ""
                      },
                      "bgcolor": "#E5ECF6",
                      "caxis": {
                        "gridcolor": "white",
                        "linecolor": "white",
                        "ticks": ""
                      }
                    },
                    "title": {
                      "x": 0.05
                    },
                    "xaxis": {
                      "automargin": true,
                      "gridcolor": "white",
                      "linecolor": "white",
                      "ticks": "",
                      "title": {
                        "standoff": 15
                      },
                      "zerolinecolor": "white",
                      "zerolinewidth": 2
                    },
                    "yaxis": {
                      "automargin": true,
                      "gridcolor": "white",
                      "linecolor": "white",
                      "ticks": "",
                      "title": {
                        "standoff": 15
                      },
                      "zerolinecolor": "white",
                      "zerolinewidth": 2
                    }
                  }
                },
                "title": {
                  "text": "Feature Importances"
                },
                "xaxis": {
                  "anchor": "y",
                  "domain": [
                    0,
                    1
                  ],
                  "title": {
                    "text": "index"
                  }
                },
                "yaxis": {
                  "anchor": "x",
                  "domain": [
                    0,
                    1
                  ],
                  "title": {
                    "text": "value"
                  }
                }
              }
            }
          },
          "metadata": {},
          "output_type": "display_data"
        }
      ],
      "source": [
        "import plotly.express as px\n",
        "\n",
        "feature_importances = pd.Series(clf.feature_importances_, index=encoder.get_feature_names_out())\n",
        "px.bar(feature_importances, title=\"Feature Importances\")"
      ]
    },
    {
      "cell_type": "code",
      "execution_count": null,
      "metadata": {},
      "outputs": [],
      "source": []
    },
    {
      "cell_type": "markdown",
      "metadata": {},
      "source": [
        "### Mini holdout prediction"
      ]
    },
    {
      "cell_type": "code",
      "execution_count": 41,
      "metadata": {},
      "outputs": [],
      "source": [
        "test = pd.read_csv(\"https://raw.githubusercontent.com/byui-cse/cse450-course/master/data/bank_holdout_test_mini.csv\")\n",
        "\n",
        "# Do same transformations as on the training set\n",
        "\n",
        "test_onehot = encoder.transform(test)\n",
        "\n",
        "predictions = clf.predict(test_onehot)\n",
        "\n",
        "# # Convert the predictions to a dataframe and label the column 'y'\n",
        "my_predictions = pd.DataFrame(predictions, columns = ['y'])\n",
        "\n",
        "# # Replace PUTTEAMNUMBERHERE with your team\n",
        "my_predictions.to_csv(\"team2-module2-predictions.csv\",index=False)\n",
        "# print(my_predictions.value_counts())\n"
      ]
    }
  ],
  "metadata": {
    "colab": {
      "name": "starter_bank.ipynb",
      "provenance": []
    },
    "kernelspec": {
      "display_name": "Python 3",
      "name": "python3"
    },
    "language_info": {
      "codemirror_mode": {
        "name": "ipython",
        "version": 3
      },
      "file_extension": ".py",
      "mimetype": "text/x-python",
      "name": "python",
      "nbconvert_exporter": "python",
      "pygments_lexer": "ipython3",
      "version": "3.12.1"
    }
  },
  "nbformat": 4,
  "nbformat_minor": 0
}
